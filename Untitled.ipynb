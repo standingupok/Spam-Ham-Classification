{
 "cells": [
  {
   "cell_type": "code",
   "execution_count": 1,
   "id": "9de32eea-04b6-4e8e-b21c-32e75baca13c",
   "metadata": {},
   "outputs": [],
   "source": [
    "import pandas as pd"
   ]
  },
  {
   "cell_type": "code",
   "execution_count": 2,
   "id": "6b4ab342-c893-4bd4-97b6-57e56afe8dd4",
   "metadata": {},
   "outputs": [],
   "source": [
    "messages = pd.read_csv('SMSSpamCollection.txt', sep = '\\t', names=['label','message'])\n",
    "messages = pd.read_csv('SMSSpamCollection.txt', sep = '\\t', names=['label','message'])"
   ]
  },
  {
   "cell_type": "code",
   "execution_count": 3,
   "id": "17d5a4e4-bb56-4147-8b6d-389d554720cc",
   "metadata": {},
   "outputs": [],
   "source": [
    "# DATA PREPREOCESSING\n",
    "import re\n",
    "import nltk\n",
    "from nltk.corpus import stopwords\n",
    "from nltk.stem import WordNetLemmatizer"
   ]
  },
  {
   "cell_type": "code",
   "execution_count": 4,
   "id": "f97744b7-8776-476f-8812-4614b108ea5e",
   "metadata": {},
   "outputs": [],
   "source": [
    "lemmatizer = WordNetLemmatizer()\n",
    "corpus = []"
   ]
  },
  {
   "cell_type": "code",
   "execution_count": 5,
   "id": "7332a19f-a77f-4c34-9265-74d14959f5ba",
   "metadata": {},
   "outputs": [],
   "source": [
    "for i in range(len(messages)):\n",
    "    review = re.sub('[^a-zA-Z]', ' ', messages['message'][i])\n",
    "    review = review.lower()\n",
    "    review = review.split()\n",
    "    review = [lemmatizer.lemmatize(word) for word in review if not word in stopwords.words('english')] \n",
    "    review = ' '.join(review)\n",
    "    corpus.append(review)"
   ]
  },
  {
   "cell_type": "code",
   "execution_count": 7,
   "id": "d1d2a57d-9447-4c18-8d4e-60f043f9d6d0",
   "metadata": {},
   "outputs": [],
   "source": [
    "# corpus"
   ]
  },
  {
   "cell_type": "code",
   "execution_count": 17,
   "id": "66937048-574e-41d4-81b9-516399875766",
   "metadata": {},
   "outputs": [],
   "source": [
    "from sklearn.feature_extraction.text import TfidfVectorizer\n",
    "tfidf = TfidfVectorizer(max_features = 2500, ngram_range = (2, 2))"
   ]
  },
  {
   "cell_type": "code",
   "execution_count": 18,
   "id": "325b26d5-2847-4cba-96b2-9c764728ad16",
   "metadata": {},
   "outputs": [],
   "source": [
    "X = tfidf.fit_transform(corpus).toarray()"
   ]
  },
  {
   "cell_type": "code",
   "execution_count": 19,
   "id": "4755fd90-dcee-4e7f-ac67-98196f9e55e9",
   "metadata": {},
   "outputs": [],
   "source": [
    "import numpy as np\n",
    "np.set_printoptions(edgeitems = 30, linewidth = 100000, formatter = dict(float = lambda x: '%.3g' %x))"
   ]
  },
  {
   "cell_type": "code",
   "execution_count": 15,
   "id": "c779b752-f3cb-4959-a0b4-aceb2a08a6a1",
   "metadata": {},
   "outputs": [],
   "source": [
    "# X"
   ]
  },
  {
   "cell_type": "code",
   "execution_count": null,
   "id": "fb948b2a-81d0-4570-a1fe-1ce74c59ad1d",
   "metadata": {},
   "outputs": [],
   "source": []
  }
 ],
 "metadata": {
  "kernelspec": {
   "display_name": "Python 3 (ipykernel)",
   "language": "python",
   "name": "python3"
  },
  "language_info": {
   "codemirror_mode": {
    "name": "ipython",
    "version": 3
   },
   "file_extension": ".py",
   "mimetype": "text/x-python",
   "name": "python",
   "nbconvert_exporter": "python",
   "pygments_lexer": "ipython3",
   "version": "3.12.4"
  }
 },
 "nbformat": 4,
 "nbformat_minor": 5
}
