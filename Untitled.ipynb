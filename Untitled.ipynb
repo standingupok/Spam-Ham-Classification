{
 "cells": [
  {
   "cell_type": "code",
   "execution_count": 1,
   "id": "c80586bb-5545-4eb6-b23c-d04d60c26b09",
   "metadata": {},
   "outputs": [],
   "source": [
    "import pandas as pd\n",
    "# import gensim"
   ]
  },
  {
   "cell_type": "code",
   "execution_count": 2,
   "id": "6b4ab342-c893-4bd4-97b6-57e56afe8dd4",
   "metadata": {},
   "outputs": [],
   "source": [
    "messages = pd.read_csv('SMSSpamCollection.txt', sep = '\\t', names=['label','message'])"
   ]
  },
  {
   "cell_type": "code",
   "execution_count": 3,
   "id": "17d5a4e4-bb56-4147-8b6d-389d554720cc",
   "metadata": {},
   "outputs": [],
   "source": [
    "# DATA PREPREOCESSING\n",
    "import re\n",
    "import nltk\n",
    "from nltk.corpus import stopwords\n",
    "from nltk.stem import WordNetLemmatizer\n",
    "from nltk.stem import PorterStemmer"
   ]
  },
  {
   "cell_type": "code",
   "execution_count": 4,
   "id": "f97744b7-8776-476f-8812-4614b108ea5e",
   "metadata": {},
   "outputs": [],
   "source": [
    "lemmatizer = WordNetLemmatizer()\n",
    "porter_stemmer = PorterStemmer()\n",
    "corpus = []"
   ]
  },
  {
   "cell_type": "code",
   "execution_count": null,
   "id": "7332a19f-a77f-4c34-9265-74d14959f5ba",
   "metadata": {},
   "outputs": [],
   "source": [
    "for i in range(len(messages)):\n",
    "    review = re.sub('[^a-zA-Z]', ' ', messages['message'][i])\n",
    "    review = review.lower()\n",
    "    review = review.split()\n",
    "    review = [porter_stemmer.stem(word) for word in review if not word in stopwords.words('english')] \n",
    "    review = ' '.join(review)\n",
    "    corpus.append(review)"
   ]
  },
  {
   "cell_type": "code",
   "execution_count": null,
   "id": "adff8cce-cd0d-43e4-aee4-493de538530b",
   "metadata": {},
   "outputs": [],
   "source": [
    "# Dependent feature\n",
    "y = pd.get_dummies(messages['label']).astype(int)\n",
    "y = y.iloc[:, 0].values"
   ]
  },
  {
   "cell_type": "code",
   "execution_count": null,
   "id": "3e4a8bf3-7f80-467f-9104-19e096150bda",
   "metadata": {},
   "outputs": [],
   "source": [
    "# TRAIN TEST SPLIT\n",
    "from sklearn.model_selection import train_test_split\n",
    "X_train, X_test, y_train, y_test = train_test_split(corpus, y, test_size = 0.2)"
   ]
  },
  {
   "cell_type": "code",
   "execution_count": null,
   "id": "aaccf1b9-29e0-4cd2-9204-aa89560225ae",
   "metadata": {},
   "outputs": [],
   "source": [
    "len(X_train), len(y_train)"
   ]
  },
  {
   "cell_type": "code",
   "execution_count": null,
   "id": "d1d2a57d-9447-4c18-8d4e-60f043f9d6d0",
   "metadata": {},
   "outputs": [],
   "source": [
    "# CREATE BAG OF WORDS"
   ]
  },
  {
   "cell_type": "code",
   "execution_count": null,
   "id": "66937048-574e-41d4-81b9-516399875766",
   "metadata": {},
   "outputs": [],
   "source": [
    "from sklearn.feature_extraction.text import TfidfVectorizer \n",
    "tfidf = TfidfVectorizer(max_features = 2500, ngram_range = (1, 2))"
   ]
  },
  {
   "cell_type": "code",
   "execution_count": null,
   "id": "f20a65e2-35a5-4141-90f2-982e0209b635",
   "metadata": {},
   "outputs": [],
   "source": [
    "from sklearn.feature_extraction.text import CountVectorizer\n",
    "countVectorizer = CountVectorizer(max_features = 2500, ngram_range = (1, 2))"
   ]
  },
  {
   "cell_type": "code",
   "execution_count": null,
   "id": "325b26d5-2847-4cba-96b2-9c764728ad16",
   "metadata": {},
   "outputs": [],
   "source": [
    "# Independent feature\n",
    "X_train = tfidf.fit_transform(X_train).toarray()\n",
    "X_test = tfidf.transform(X_test).toarray()"
   ]
  },
  {
   "cell_type": "code",
   "execution_count": null,
   "id": "8f64785e-0cae-4eb8-9d0f-e272112d9795",
   "metadata": {},
   "outputs": [],
   "source": [
    "import numpy as np\n",
    "np.set_printoptions(edgeitems = 30, linewidth = 100000, formatter = dict(float = lambda x: '%.3g' %x))"
   ]
  },
  {
   "cell_type": "code",
   "execution_count": null,
   "id": "d6ef33df-eb42-4a1b-8e90-72476bfaad1e",
   "metadata": {},
   "outputs": [],
   "source": [
    "# countVectorizer.vocabulary_"
   ]
  },
  {
   "cell_type": "code",
   "execution_count": null,
   "id": "6f8a94cc-8547-4b20-8d24-aaf9f6f39b2c",
   "metadata": {},
   "outputs": [],
   "source": [
    "# from gensim.models import Word2Vec, KeyedVectors"
   ]
  },
  {
   "cell_type": "code",
   "execution_count": null,
   "id": "f96fb56a-3040-4be3-bbd7-21471429b710",
   "metadata": {},
   "outputs": [],
   "source": [
    "# Dependent feature\n",
    "y = pd.get_dummies(messages['label']).astype(int)\n",
    "y = y.iloc[:, 0].values"
   ]
  },
  {
   "cell_type": "code",
   "execution_count": null,
   "id": "3b1adce8-986c-43c7-a3f1-f5a1c2556540",
   "metadata": {},
   "outputs": [],
   "source": [
    "# Train model\n",
    "from sklearn.naive_bayes import MultinomialNB"
   ]
  },
  {
   "cell_type": "code",
   "execution_count": null,
   "id": "605deb7f-602c-4e2f-b95a-9be668727c9f",
   "metadata": {},
   "outputs": [],
   "source": [
    "spam_detector = MultinomialNB().fit(X_train, y_train)"
   ]
  },
  {
   "cell_type": "code",
   "execution_count": null,
   "id": "9d26e941-85d6-4e39-90b4-2e9df870fa0d",
   "metadata": {},
   "outputs": [],
   "source": [
    "spam_detector"
   ]
  },
  {
   "cell_type": "code",
   "execution_count": null,
   "id": "7302ac81-5b6b-4f9b-b3db-c0376c3260a0",
   "metadata": {},
   "outputs": [],
   "source": [
    "y_pred=spam_detector.predict(X_test)"
   ]
  },
  {
   "cell_type": "code",
   "execution_count": null,
   "id": "193d090d-9f77-47cb-82d8-27db4f7dc217",
   "metadata": {},
   "outputs": [],
   "source": [
    "from sklearn.metrics import accuracy_score, classification_report"
   ]
  },
  {
   "cell_type": "code",
   "execution_count": null,
   "id": "e7d3976d-10bd-4846-aa2a-913062bcba22",
   "metadata": {},
   "outputs": [],
   "source": [
    "accuracy_score(y_test, y_pred)"
   ]
  },
  {
   "cell_type": "code",
   "execution_count": null,
   "id": "f515b367-2803-493f-a7e4-45ca898e1714",
   "metadata": {},
   "outputs": [],
   "source": [
    "print(classification_report(y_test, y_pred))"
   ]
  },
  {
   "cell_type": "code",
   "execution_count": null,
   "id": "e7978c3f-a060-4121-a0f2-cad09d0c105c",
   "metadata": {},
   "outputs": [],
   "source": []
  }
 ],
 "metadata": {
  "kernelspec": {
   "display_name": "Python 3 (ipykernel)",
   "language": "python",
   "name": "python3"
  },
  "language_info": {
   "codemirror_mode": {
    "name": "ipython",
    "version": 3
   },
   "file_extension": ".py",
   "mimetype": "text/x-python",
   "name": "python",
   "nbconvert_exporter": "python",
   "pygments_lexer": "ipython3",
   "version": "3.12.4"
  }
 },
 "nbformat": 4,
 "nbformat_minor": 5
}
